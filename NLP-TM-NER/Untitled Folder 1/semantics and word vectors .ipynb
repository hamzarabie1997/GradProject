{
 "cells": [
  {
   "cell_type": "code",
   "execution_count": 7,
   "metadata": {},
   "outputs": [],
   "source": [
    "# Import spaCy and load the language library\n",
    "import spacy\n",
    "nlp = spacy.load('en_core_web_md')"
   ]
  },
  {
   "cell_type": "code",
   "execution_count": 2,
   "metadata": {},
   "outputs": [
    {
     "data": {
      "text/plain": [
       "array([ 0.03059475,  0.1260345 , -0.20121944, -0.08741599,  0.298785  ,\n",
       "       -0.02565   , -0.008335  , -0.34911248, -0.12167825,  1.6271675 ,\n",
       "       -0.30004117, -0.02988449, -0.00886875, -0.01596775, -0.10879225,\n",
       "        0.02967125, -0.15047075,  0.656405  , -0.01734675,  0.08040925,\n",
       "       -0.13133483, -0.086844  , -0.12177   ,  0.23214307,  0.30832   ,\n",
       "       -0.086537  , -0.12266426, -0.098651  , -0.02428625,  0.3640085 ,\n",
       "        0.22046098,  0.25833273, -0.04439501,  0.09068076, -0.13043325,\n",
       "        0.17742474, -0.15867999, -0.01274625, -0.19466835, -0.138273  ,\n",
       "       -0.0327445 , -0.052341  , -0.0627325 , -0.2360885 ,  0.0188125 ,\n",
       "       -0.21449775,  0.06851651, -0.19939625,  0.1083435 ,  0.247345  ,\n",
       "       -0.27866325,  0.29909575, -0.21225451, -0.034841  ,  0.18619175,\n",
       "       -0.01367275, -0.06569725, -0.26929724,  0.04283275, -0.14275075,\n",
       "       -0.2354042 , -0.17580676, -0.0111225 ,  0.17536251,  0.16258174,\n",
       "       -0.2473    , -0.205899  ,  0.00744185, -0.02444477, -0.03633   ,\n",
       "       -0.23554552, -0.12290625,  0.1932575 , -0.12360942,  0.17046249,\n",
       "        0.15726799,  0.06273624, -0.04086575,  0.05459751,  0.225825  ,\n",
       "        0.13796851,  0.04847   , -0.11416326,  0.1275725 ,  0.3200425 ,\n",
       "       -0.25935075,  0.29883826, -0.48416752,  0.2463525 , -0.300084  ,\n",
       "       -0.330285  ,  0.14940143, -0.150745  , -0.096598  ,  0.37022573,\n",
       "        0.02809475,  0.02798174, -0.07423151,  0.03199625,  0.08761625,\n",
       "       -0.132218  , -0.13027   ,  0.1593325 , -0.07795428,  0.09429875,\n",
       "       -0.5553212 , -0.00663275, -0.0621592 , -0.011025  ,  0.035194  ,\n",
       "       -0.24701464, -0.026752  ,  0.06422874,  0.068294  , -0.028151  ,\n",
       "       -0.02890375,  0.21582125,  0.13131025,  0.0202325 ,  0.05140141,\n",
       "       -0.20066251,  0.02176842,  0.22037   ,  0.1976075 ,  0.12764275,\n",
       "        0.151595  , -0.0105175 , -0.39065027, -0.13479912, -0.08870425,\n",
       "       -0.18194973, -0.26325423,  0.05194516,  0.07022499, -0.05668175,\n",
       "       -0.27815348, -0.06417   ,  0.18553999,  0.00385224,  0.051758  ,\n",
       "       -1.4278874 ,  0.17243725,  0.0292    ,  0.16074225, -0.16407774,\n",
       "       -0.02565525,  0.3209025 ,  0.0358075 , -0.10097025,  0.0092785 ,\n",
       "        0.018635  ,  0.13745725,  0.0629855 , -0.03011925,  0.08013295,\n",
       "        0.03604125, -0.39048   , -0.1485295 , -0.32667375, -0.113453  ,\n",
       "        0.11800174, -0.10522451,  0.119344  , -0.0164495 , -0.24050686,\n",
       "       -0.40349498, -0.0487545 , -0.049691  ,  0.22347927, -0.05545425,\n",
       "       -0.22706124,  0.05081201,  0.22007   , -0.26090002, -0.26077074,\n",
       "        0.08381225, -0.01468825, -0.128446  , -0.189114  ,  0.01885399,\n",
       "        0.09656949, -0.119835  , -0.13833049, -0.2077085 , -0.06104022,\n",
       "        0.08483325, -0.12485002,  0.10091737, -0.05639024, -0.14906   ,\n",
       "       -0.287505  , -0.08040257, -0.3030475 ,  0.18759751,  0.20298925,\n",
       "        0.4344825 ,  0.25117677, -0.21476176,  0.3128965 ,  0.1638975 ,\n",
       "       -0.16388926, -0.06956475, -0.21351442,  0.003594  ,  0.14433724,\n",
       "        0.0017325 ,  0.38474375,  0.107381  , -0.09333375, -0.10469575,\n",
       "       -0.30581027,  0.11959726,  0.064178  , -0.08010525, -0.07995175,\n",
       "       -0.08911251,  0.01361175, -0.2883775 , -0.29405376, -0.06430499,\n",
       "       -0.14249   ,  0.12527424,  0.01161675,  0.07595225, -0.00912025,\n",
       "       -0.01465049,  0.20645975,  0.37309998, -0.16880025,  0.027415  ,\n",
       "       -0.12829751,  0.0229165 , -0.23625976,  0.138812  , -0.107498  ,\n",
       "       -0.21100551, -0.14617401,  0.10912299, -0.10052551, -0.0213545 ,\n",
       "       -0.28429127,  0.3122125 ,  0.10643975,  0.09588775,  0.08649099,\n",
       "       -0.49039748,  0.21086626, -0.19182749,  0.0558705 ,  0.01220025,\n",
       "        0.0773595 , -0.23545283,  0.13124251,  0.07117275,  0.17966075,\n",
       "        0.08981225,  0.1398869 , -0.11676475,  0.03044075,  0.042823  ,\n",
       "        0.10759249,  0.031544  ,  0.17619875,  0.0903675 , -0.005496  ,\n",
       "       -0.038702  ,  0.01706625,  0.241579  ,  0.22096999, -0.16812147,\n",
       "        0.29256675,  0.00610225, -0.27896452,  0.02498026, -0.02217475,\n",
       "       -0.01295749,  0.122371  , -0.12965801,  0.09388801, -0.058665  ,\n",
       "        0.21290931,  0.16980475,  0.06697577,  0.00760975, -0.0734505 ,\n",
       "       -0.08062625,  0.192064  ,  0.07636276,  0.12832975, -0.04874049,\n",
       "        0.18605775, -0.03153422, -0.23532076,  0.11461999,  0.34651148,\n",
       "       -0.09035251,  0.0394625 ,  0.1082425 , -0.12520576,  0.153764  ],\n",
       "      dtype=float32)"
      ]
     },
     "execution_count": 2,
     "metadata": {},
     "output_type": "execute_result"
    }
   ],
   "source": [
    "nlp(u'my name is Hadi').vector\n"
   ]
  },
  {
   "cell_type": "code",
   "execution_count": 8,
   "metadata": {},
   "outputs": [
    {
     "name": "stdout",
     "output_type": "stream",
     "text": [
      "cat lion 0.52654374\n",
      "cat tiger 0.5413389\n",
      "cat pet 0.7505456\n",
      "tiger lion 0.7359829\n",
      "tiger tiger 1.0\n",
      "tiger pet 0.37870574\n",
      "pet lion 0.39923766\n",
      "pet tiger 0.37870574\n",
      "pet pet 1.0\n"
     ]
    }
   ],
   "source": [
    "# Create a three-token Doc object:\n",
    "tokens = nlp(u'cat tiger pet')\n",
    "tokensg = nlp(u'lion tiger pet')\n",
    "# Iterate through token combinations:\n",
    "for token1 in tokens:\n",
    "    for token2 in tokensg:\n",
    "        print(token1.text, token2.text, token1.similarity(token2))"
   ]
  },
  {
   "cell_type": "code",
   "execution_count": 14,
   "metadata": {},
   "outputs": [
    {
     "name": "stdout",
     "output_type": "stream",
     "text": [
      "like like 0.28276873\n",
      "like love 0.28276873\n",
      "like hate 0.28276873\n",
      "love like 0.27824882\n",
      "love love 0.27824882\n",
      "love hate 0.27824882\n",
      "hate like 0.21877314\n",
      "hate love 0.21877314\n",
      "hate hate 0.21877314\n"
     ]
    }
   ],
   "source": [
    "#create 3 tokens \n",
    "tokens = nlp(u'like love hate ')\n",
    "\n",
    "#Iterate through token cominations\n",
    "for t1 in tokens:\n",
    "    for t2 in tokens:\n",
    "        print(t1.text,t2.text,t1.similarity(token2))\n",
    "             "
   ]
  },
  {
   "cell_type": "code",
   "execution_count": 17,
   "metadata": {},
   "outputs": [
    {
     "name": "stdout",
     "output_type": "stream",
     "text": [
      "dog True 7.0336733 False\n",
      "cat True 6.6808186 False\n",
      "nargle False 0.0 True\n"
     ]
    }
   ],
   "source": [
    "tokens = nlp(u'dog cat nargle')\n",
    "\n",
    "for token in tokens:\n",
    "    print(token.text, token.has_vector, token.vector_norm, token.is_oov)"
   ]
  },
  {
   "cell_type": "code",
   "execution_count": 24,
   "metadata": {},
   "outputs": [
    {
     "name": "stdout",
     "output_type": "stream",
     "text": [
      "['king', 'queen', 'commoner', 'highness', 'prince', 'sultan', 'maharajas', 'princes', 'kumbia', 'kings', 'sultans', 'pricess']\n"
     ]
    }
   ],
   "source": [
    "## now we will calculate new vectors by adding & subtracting  realted vectors \n",
    "\n",
    "from scipy import spatial \n",
    "\n",
    "cosine_similarity = lambda x, y: 1 - spatial.distance.cosine(x, y)\n",
    "\n",
    "king = nlp.vocab['king'].vector\n",
    "queen = nlp.vocab['queen'].vector\n",
    "man = nlp.vocab['man'].vector\n",
    "woman = nlp.vocab['woman'].vector\n",
    "\n",
    "\n",
    "# now we find the closSet vector in the vocabulary to result of \"man\" - \"Woman\" + \"queen\"\n",
    "new_vector = king - man + woman\n",
    "computed_similarities = []\n",
    "\n",
    "for word in nlp.vocab:\n",
    "    if word.has_vector:\n",
    "        if word.is_lower:\n",
    "            if word.is_alpha:\n",
    "                similarity = cosine_similarity(new_vector, word.vector)\n",
    "                computed_similarities.append((word, similarity))\n",
    "  \n",
    "computed_similarities = sorted(computed_similarities, key=lambda item: -item[1])\n",
    "print([w[0].text for w in computed_similarities[:12]])"
   ]
  },
  {
   "cell_type": "code",
   "execution_count": null,
   "metadata": {},
   "outputs": [],
   "source": []
  },
  {
   "cell_type": "code",
   "execution_count": null,
   "metadata": {},
   "outputs": [],
   "source": []
  }
 ],
 "metadata": {
  "kernelspec": {
   "display_name": "Python 3",
   "language": "python",
   "name": "python3"
  },
  "language_info": {
   "codemirror_mode": {
    "name": "ipython",
    "version": 3
   },
   "file_extension": ".py",
   "mimetype": "text/x-python",
   "name": "python",
   "nbconvert_exporter": "python",
   "pygments_lexer": "ipython3",
   "version": "3.7.6"
  }
 },
 "nbformat": 4,
 "nbformat_minor": 4
}
